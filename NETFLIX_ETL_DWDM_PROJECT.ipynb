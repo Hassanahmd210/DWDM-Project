{
 "cells": [
  {
   "cell_type": "code",
   "execution_count": 1,
   "metadata": {
    "colab": {
     "base_uri": "https://localhost:8080/"
    },
    "id": "Zz1GAluHuHzF",
    "outputId": "8811ca36-b2b0-478d-ca01-ef3b94a24731"
   },
   "outputs": [
    {
     "name": "stdout",
     "output_type": "stream",
     "text": [
      "Requirement already satisfied: pymysql in c:\\users\\hp\\appdata\\local\\programs\\python\\python313\\lib\\site-packages (1.1.1)\n",
      "Note: you may need to restart the kernel to use updated packages.\n"
     ]
    }
   ],
   "source": [
    "pip install pymysql"
   ]
  },
  {
   "cell_type": "code",
   "execution_count": 2,
   "metadata": {
    "id": "4Hag2mwMuHzI"
   },
   "outputs": [],
   "source": [
    "import pymysql\n",
    "import pandas as pd\n",
    "import numpy as np"
   ]
  },
  {
   "cell_type": "code",
   "execution_count": 5,
   "metadata": {
    "id": "sB8ERNUluHzJ"
   },
   "outputs": [],
   "source": [
    "import pandas as pd\n",
    "\n",
    "# Read the CSV\n",
    "netflix_titles = pd.read_csv('mycsvfile.csv')\n",
    "\n",
    "# Safely convert 'date_added' to datetime format\n",
    "netflix_titles['date_added'] = pd.to_datetime(netflix_titles['date_added'], errors='coerce')\n",
    "\n",
    "# Now format the date column (after ensuring it's datetime)\n",
    "netflix_titles['date_added'] = netflix_titles['date_added'].dt.strftime('%Y-%m-%d')\n",
    "\n",
    "# Extract required values\n",
    "fullList = netflix_titles['title'].dropna().tolist()\n",
    "genreList = list(set(netflix_titles['listed_in'].dropna().tolist()))\n"
   ]
  },
  {
   "cell_type": "code",
   "execution_count": 7,
   "metadata": {},
   "outputs": [
    {
     "data": {
      "text/html": [
       "<div>\n",
       "<style scoped>\n",
       "    .dataframe tbody tr th:only-of-type {\n",
       "        vertical-align: middle;\n",
       "    }\n",
       "\n",
       "    .dataframe tbody tr th {\n",
       "        vertical-align: top;\n",
       "    }\n",
       "\n",
       "    .dataframe thead th {\n",
       "        text-align: right;\n",
       "    }\n",
       "</style>\n",
       "<table border=\"1\" class=\"dataframe\">\n",
       "  <thead>\n",
       "    <tr style=\"text-align: right;\">\n",
       "      <th></th>\n",
       "      <th>show_id</th>\n",
       "      <th>type</th>\n",
       "      <th>title</th>\n",
       "      <th>director</th>\n",
       "      <th>cast</th>\n",
       "      <th>country</th>\n",
       "      <th>date_added</th>\n",
       "      <th>release_year</th>\n",
       "      <th>rating</th>\n",
       "      <th>duration</th>\n",
       "      <th>listed_in</th>\n",
       "      <th>description</th>\n",
       "    </tr>\n",
       "  </thead>\n",
       "  <tbody>\n",
       "    <tr>\n",
       "      <th>0</th>\n",
       "      <td>81145628</td>\n",
       "      <td>Movie</td>\n",
       "      <td>Norm of the North: King Sized Adventure</td>\n",
       "      <td>Richard Finn, Tim Maltby</td>\n",
       "      <td>Alan Marriott, Andrew Toth, Brian Dobson, Cole...</td>\n",
       "      <td>United States, India, South Korea, China</td>\n",
       "      <td>2019-09-09</td>\n",
       "      <td>2019</td>\n",
       "      <td>4.1</td>\n",
       "      <td>90 min</td>\n",
       "      <td>Children &amp; Family Movies, Comedies</td>\n",
       "      <td>Before planning an awesome wedding for his gra...</td>\n",
       "    </tr>\n",
       "    <tr>\n",
       "      <th>1</th>\n",
       "      <td>80117401</td>\n",
       "      <td>Movie</td>\n",
       "      <td>Jandino: Whatever it Takes</td>\n",
       "      <td>NaN</td>\n",
       "      <td>Jandino Asporaat</td>\n",
       "      <td>United Kingdom</td>\n",
       "      <td>2016-09-09</td>\n",
       "      <td>2016</td>\n",
       "      <td>5.2</td>\n",
       "      <td>94 min</td>\n",
       "      <td>Stand-Up Comedy</td>\n",
       "      <td>Jandino Asporaat riffs on the challenges of ra...</td>\n",
       "    </tr>\n",
       "    <tr>\n",
       "      <th>2</th>\n",
       "      <td>70234439</td>\n",
       "      <td>TV Show</td>\n",
       "      <td>Transformers Prime</td>\n",
       "      <td>NaN</td>\n",
       "      <td>Peter Cullen, Sumalee Montano, Frank Welker, J...</td>\n",
       "      <td>United States</td>\n",
       "      <td>2018-09-08</td>\n",
       "      <td>2013</td>\n",
       "      <td>8.2</td>\n",
       "      <td>1 Season</td>\n",
       "      <td>Kids' TV</td>\n",
       "      <td>With the help of three human allies, the Autob...</td>\n",
       "    </tr>\n",
       "    <tr>\n",
       "      <th>3</th>\n",
       "      <td>80058654</td>\n",
       "      <td>TV Show</td>\n",
       "      <td>Transformers: Robots in Disguise</td>\n",
       "      <td>NaN</td>\n",
       "      <td>Will Friedle, Darren Criss, Constance Zimmer, ...</td>\n",
       "      <td>United States</td>\n",
       "      <td>2018-09-08</td>\n",
       "      <td>2016</td>\n",
       "      <td>6.4</td>\n",
       "      <td>1 Season</td>\n",
       "      <td>Kids' TV</td>\n",
       "      <td>When a prison ship crash unleashes hundreds of...</td>\n",
       "    </tr>\n",
       "    <tr>\n",
       "      <th>4</th>\n",
       "      <td>80125979</td>\n",
       "      <td>Movie</td>\n",
       "      <td>#realityhigh</td>\n",
       "      <td>Fernando Lebrija</td>\n",
       "      <td>Nesta Cooper, Kate Walsh, John Michael Higgins...</td>\n",
       "      <td>United States</td>\n",
       "      <td>2017-09-08</td>\n",
       "      <td>2017</td>\n",
       "      <td>5.7</td>\n",
       "      <td>99 min</td>\n",
       "      <td>Comedies</td>\n",
       "      <td>When nerdy high schooler Dani finally attracts...</td>\n",
       "    </tr>\n",
       "  </tbody>\n",
       "</table>\n",
       "</div>"
      ],
      "text/plain": [
       "    show_id     type                                    title  \\\n",
       "0  81145628    Movie  Norm of the North: King Sized Adventure   \n",
       "1  80117401    Movie               Jandino: Whatever it Takes   \n",
       "2  70234439  TV Show                       Transformers Prime   \n",
       "3  80058654  TV Show         Transformers: Robots in Disguise   \n",
       "4  80125979    Movie                             #realityhigh   \n",
       "\n",
       "                   director  \\\n",
       "0  Richard Finn, Tim Maltby   \n",
       "1                       NaN   \n",
       "2                       NaN   \n",
       "3                       NaN   \n",
       "4          Fernando Lebrija   \n",
       "\n",
       "                                                cast  \\\n",
       "0  Alan Marriott, Andrew Toth, Brian Dobson, Cole...   \n",
       "1                                   Jandino Asporaat   \n",
       "2  Peter Cullen, Sumalee Montano, Frank Welker, J...   \n",
       "3  Will Friedle, Darren Criss, Constance Zimmer, ...   \n",
       "4  Nesta Cooper, Kate Walsh, John Michael Higgins...   \n",
       "\n",
       "                                    country  date_added  release_year  rating  \\\n",
       "0  United States, India, South Korea, China  2019-09-09          2019     4.1   \n",
       "1                            United Kingdom  2016-09-09          2016     5.2   \n",
       "2                             United States  2018-09-08          2013     8.2   \n",
       "3                             United States  2018-09-08          2016     6.4   \n",
       "4                             United States  2017-09-08          2017     5.7   \n",
       "\n",
       "   duration                           listed_in  \\\n",
       "0    90 min  Children & Family Movies, Comedies   \n",
       "1    94 min                     Stand-Up Comedy   \n",
       "2  1 Season                            Kids' TV   \n",
       "3  1 Season                            Kids' TV   \n",
       "4    99 min                            Comedies   \n",
       "\n",
       "                                         description  \n",
       "0  Before planning an awesome wedding for his gra...  \n",
       "1  Jandino Asporaat riffs on the challenges of ra...  \n",
       "2  With the help of three human allies, the Autob...  \n",
       "3  When a prison ship crash unleashes hundreds of...  \n",
       "4  When nerdy high schooler Dani finally attracts...  "
      ]
     },
     "execution_count": 7,
     "metadata": {},
     "output_type": "execute_result"
    }
   ],
   "source": [
    "netflix_titles.head()"
   ]
  },
  {
   "cell_type": "code",
   "execution_count": 9,
   "metadata": {
    "id": "A3OC7fZPuHzK"
   },
   "outputs": [],
   "source": [
    "showDim = netflix_titles.drop(['date_added', 'release_year', 'rating', 'listed_in'], axis=1) # delete the columns that are not needed\n",
    "showDim = showDim.where((pd.notnull(showDim)), None) # convert empty values to \"None\" values\n",
    "showDimList = []\n",
    "for row in showDim.values.tolist():\n",
    "    showDimList.append(tuple(row)) # format data into a list of tuples before inserting to database\n",
    "\n",
    "# showDimList: show data for show_dim table"
   ]
  },
  {
   "cell_type": "code",
   "execution_count": 9,
   "metadata": {
    "id": "doxcJNGZuHzL"
   },
   "outputs": [],
   "source": [
    "netflix_origionals = pd.read_csv('netflix_originals.csv') # using pandas to read the csv file\n",
    "netflix_origionals = netflix_origionals[['Title','Seasons','Length','Netflix Exclusive Regions','Status']] # select the columns to keep\n",
    "netflix_origionals = netflix_origionals.where((pd.notnull(netflix_origionals)), None) # convert empty values to \"None\" values\n",
    "netflix_origionals.drop_duplicates(subset =\"Title\",\n",
    "                     keep = 'first', inplace = True) # delete duplicate values\n",
    "netflix_origionalsList = [tuple(l) for l in netflix_origionals.values.tolist()] # format data into a list of tuples before inserting to database\n",
    "#print(netflix_origionalsList) #: data for original_dim table"
   ]
  },
  {
   "cell_type": "code",
   "execution_count": 10,
   "metadata": {},
   "outputs": [
    {
     "data": {
      "text/html": [
       "<div>\n",
       "<style scoped>\n",
       "    .dataframe tbody tr th:only-of-type {\n",
       "        vertical-align: middle;\n",
       "    }\n",
       "\n",
       "    .dataframe tbody tr th {\n",
       "        vertical-align: top;\n",
       "    }\n",
       "\n",
       "    .dataframe thead th {\n",
       "        text-align: right;\n",
       "    }\n",
       "</style>\n",
       "<table border=\"1\" class=\"dataframe\">\n",
       "  <thead>\n",
       "    <tr style=\"text-align: right;\">\n",
       "      <th></th>\n",
       "      <th>Title</th>\n",
       "      <th>Seasons</th>\n",
       "      <th>Length</th>\n",
       "      <th>Netflix Exclusive Regions</th>\n",
       "      <th>Status</th>\n",
       "    </tr>\n",
       "  </thead>\n",
       "  <tbody>\n",
       "    <tr>\n",
       "      <th>0</th>\n",
       "      <td>House of Cards</td>\n",
       "      <td>6 seasons, 73 episodes</td>\n",
       "      <td>42–59 min.</td>\n",
       "      <td>Worldwide</td>\n",
       "      <td>Ended</td>\n",
       "    </tr>\n",
       "    <tr>\n",
       "      <th>1</th>\n",
       "      <td>Hemlock Grove</td>\n",
       "      <td>3 seasons, 33 episodes</td>\n",
       "      <td>45–58 min.</td>\n",
       "      <td>Worldwide</td>\n",
       "      <td>Ended</td>\n",
       "    </tr>\n",
       "    <tr>\n",
       "      <th>2</th>\n",
       "      <td>Orange Is the New Black</td>\n",
       "      <td>7 seasons, 91 episodes</td>\n",
       "      <td>50–92 min.</td>\n",
       "      <td>Worldwide</td>\n",
       "      <td>Ended</td>\n",
       "    </tr>\n",
       "    <tr>\n",
       "      <th>3</th>\n",
       "      <td>Marco Polo</td>\n",
       "      <td>2 seasons, 20 episodes</td>\n",
       "      <td>48–65 min.</td>\n",
       "      <td>Worldwide</td>\n",
       "      <td>Ended</td>\n",
       "    </tr>\n",
       "    <tr>\n",
       "      <th>4</th>\n",
       "      <td>Bloodline</td>\n",
       "      <td>3 seasons, 33 episodes</td>\n",
       "      <td>48–68 min.</td>\n",
       "      <td>Worldwide</td>\n",
       "      <td>Ended</td>\n",
       "    </tr>\n",
       "  </tbody>\n",
       "</table>\n",
       "</div>"
      ],
      "text/plain": [
       "                     Title                 Seasons      Length  \\\n",
       "0           House of Cards  6 seasons, 73 episodes  42–59 min.   \n",
       "1            Hemlock Grove  3 seasons, 33 episodes  45–58 min.   \n",
       "2  Orange Is the New Black  7 seasons, 91 episodes  50–92 min.   \n",
       "3               Marco Polo  2 seasons, 20 episodes  48–65 min.   \n",
       "4                Bloodline  3 seasons, 33 episodes  48–68 min.   \n",
       "\n",
       "  Netflix Exclusive Regions Status  \n",
       "0                 Worldwide  Ended  \n",
       "1                 Worldwide  Ended  \n",
       "2                 Worldwide  Ended  \n",
       "3                 Worldwide  Ended  \n",
       "4                 Worldwide  Ended  "
      ]
     },
     "execution_count": 10,
     "metadata": {},
     "output_type": "execute_result"
    }
   ],
   "source": [
    "netflix_origionals.head()"
   ]
  },
  {
   "cell_type": "code",
   "execution_count": 12,
   "metadata": {
    "id": "KafmnnjjuHzL"
   },
   "outputs": [],
   "source": [
    "netflix_stocks = pd.read_csv('NFLX.csv', parse_dates=['Date']) # using pandas to read the csv file"
   ]
  },
  {
   "cell_type": "code",
   "execution_count": 13,
   "metadata": {},
   "outputs": [
    {
     "data": {
      "text/html": [
       "<div>\n",
       "<style scoped>\n",
       "    .dataframe tbody tr th:only-of-type {\n",
       "        vertical-align: middle;\n",
       "    }\n",
       "\n",
       "    .dataframe tbody tr th {\n",
       "        vertical-align: top;\n",
       "    }\n",
       "\n",
       "    .dataframe thead th {\n",
       "        text-align: right;\n",
       "    }\n",
       "</style>\n",
       "<table border=\"1\" class=\"dataframe\">\n",
       "  <thead>\n",
       "    <tr style=\"text-align: right;\">\n",
       "      <th></th>\n",
       "      <th>Date</th>\n",
       "      <th>Open</th>\n",
       "      <th>High</th>\n",
       "      <th>Low</th>\n",
       "      <th>Close</th>\n",
       "      <th>Adj Close</th>\n",
       "      <th>Volume</th>\n",
       "    </tr>\n",
       "  </thead>\n",
       "  <tbody>\n",
       "    <tr>\n",
       "      <th>0</th>\n",
       "      <td>2002-05-23</td>\n",
       "      <td>1.156429</td>\n",
       "      <td>1.242857</td>\n",
       "      <td>1.145714</td>\n",
       "      <td>1.196429</td>\n",
       "      <td>1.196429</td>\n",
       "      <td>104790000</td>\n",
       "    </tr>\n",
       "    <tr>\n",
       "      <th>1</th>\n",
       "      <td>2002-05-24</td>\n",
       "      <td>1.214286</td>\n",
       "      <td>1.225000</td>\n",
       "      <td>1.197143</td>\n",
       "      <td>1.210000</td>\n",
       "      <td>1.210000</td>\n",
       "      <td>11104800</td>\n",
       "    </tr>\n",
       "    <tr>\n",
       "      <th>2</th>\n",
       "      <td>2002-05-28</td>\n",
       "      <td>1.213571</td>\n",
       "      <td>1.232143</td>\n",
       "      <td>1.157143</td>\n",
       "      <td>1.157143</td>\n",
       "      <td>1.157143</td>\n",
       "      <td>6609400</td>\n",
       "    </tr>\n",
       "    <tr>\n",
       "      <th>3</th>\n",
       "      <td>2002-05-29</td>\n",
       "      <td>1.164286</td>\n",
       "      <td>1.164286</td>\n",
       "      <td>1.085714</td>\n",
       "      <td>1.103571</td>\n",
       "      <td>1.103571</td>\n",
       "      <td>6757800</td>\n",
       "    </tr>\n",
       "    <tr>\n",
       "      <th>4</th>\n",
       "      <td>2002-05-30</td>\n",
       "      <td>1.107857</td>\n",
       "      <td>1.107857</td>\n",
       "      <td>1.071429</td>\n",
       "      <td>1.071429</td>\n",
       "      <td>1.071429</td>\n",
       "      <td>10154200</td>\n",
       "    </tr>\n",
       "  </tbody>\n",
       "</table>\n",
       "</div>"
      ],
      "text/plain": [
       "        Date      Open      High       Low     Close  Adj Close     Volume\n",
       "0 2002-05-23  1.156429  1.242857  1.145714  1.196429   1.196429  104790000\n",
       "1 2002-05-24  1.214286  1.225000  1.197143  1.210000   1.210000   11104800\n",
       "2 2002-05-28  1.213571  1.232143  1.157143  1.157143   1.157143    6609400\n",
       "3 2002-05-29  1.164286  1.164286  1.085714  1.103571   1.103571    6757800\n",
       "4 2002-05-30  1.107857  1.107857  1.071429  1.071429   1.071429   10154200"
      ]
     },
     "execution_count": 13,
     "metadata": {},
     "output_type": "execute_result"
    }
   ],
   "source": [
    "netflix_stocks.head()"
   ]
  },
  {
   "cell_type": "code",
   "execution_count": 15,
   "metadata": {
    "id": "N65zseNhuHzM"
   },
   "outputs": [],
   "source": [
    "dateDim = pd.DataFrame({'date': pd.date_range(start='2002-05-23', end='2020-08-03')}) # create a dataframe that has dates ranging from 2002-05-23 to 2020-08-03\n",
    "dateDim['date_id'] = dateDim.index + 1 # create date_id column and assign id numbers starting from 1\n",
    "dateDim['date'] = dateDim['date'].dt.strftime(\"%Y-%m-%d\") # format date column to YYYY-MM-DD\n",
    "dateDim['year'] = pd.DatetimeIndex(dateDim['date']).year # using the year information from date colunn to create year column\n",
    "dateDim = dateDim.reindex(columns=['date_id','date','year']) # re-arrange the order of columns\n",
    "#dateDim.date = pd.to_datetime(dateDim.date)\n",
    "dateDim.date_id = dateDim.date_id.astype(str) # convert data in date column to string"
   ]
  },
  {
   "cell_type": "code",
   "execution_count": 16,
   "metadata": {
    "id": "PfTlcrONuHzM"
   },
   "outputs": [],
   "source": [
    "dateDimList = [tuple(l) for l in dateDim.values.tolist()] # format data into a list of tuples before inserting to database\n",
    "# dateDimList: data for date_dim table"
   ]
  },
  {
   "cell_type": "code",
   "execution_count": 17,
   "metadata": {
    "id": "DB3xMMItuHzN"
   },
   "outputs": [],
   "source": [
    "dateDim.date = pd.to_datetime(dateDim.date) # convert data in date column to datatype date\n",
    "\n",
    "factsStockDF = pd.merge(netflix_stocks, dateDim, left_on='Date', right_on='date', how='inner') # inner join dataframes netflix_stocks and dataDim on date\n",
    "factsStockDF = factsStockDF.drop(['Date', 'date', 'year'], axis=1) # delete columns that are not needed\n",
    "factsStockDF = factsStockDF.reindex(columns=['date_id','Open','High','Low','Close','Adj Close', 'Volume']) # re-arrange the order of columns\n",
    "# factsStockDF['Date'] = factsStockDF['Date'].dt.strftime(\"%Y-%m-%d\")\n"
   ]
  },
  {
   "cell_type": "code",
   "execution_count": 18,
   "metadata": {
    "id": "W6bSX_4xuHzN"
   },
   "outputs": [],
   "source": [
    "factsStockList = [tuple(l) for l in factsStockDF.values.tolist()] # format data into a list of tuples before inserting to database\n",
    "# factsStockList: data for facts_stock_prices table"
   ]
  },
  {
   "cell_type": "code",
   "execution_count": 19,
   "metadata": {
    "id": "qyTJ15zGuHzO"
   },
   "outputs": [],
   "source": [
    "factsRating = pd.merge(netflix_titles, netflix_origionals, left_on='title', right_on='Title', how='left') # left join dataframes netflix_titles and netflix_originals on titles\n",
    "factsRating.date_added = pd.to_datetime(factsRating.date_added) # convert data in date_added column to datatype date"
   ]
  },
  {
   "cell_type": "code",
   "execution_count": 20,
   "metadata": {
    "id": "kvk--FbouHzO"
   },
   "outputs": [],
   "source": [
    "factsRatingDF = pd.merge(factsRating, dateDim, left_on='date_added', right_on='date', how='left') # left join dataframes factsRating and dateDim on date_added/date"
   ]
  },
  {
   "cell_type": "code",
   "execution_count": 21,
   "metadata": {
    "id": "qxxavLDPuHzO"
   },
   "outputs": [],
   "source": [
    "factsRatingDF = factsRatingDF[['show_id','title','Title','date_id','listed_in','rating']] # select only columns needed"
   ]
  },
  {
   "cell_type": "code",
   "execution_count": 22,
   "metadata": {
    "id": "GzAb4O-xuHzO"
   },
   "outputs": [],
   "source": [
    "factsRatingDF = factsRatingDF.where((pd.notnull(factsRatingDF)), None) # convert empty values to \"None\" values"
   ]
  },
  {
   "cell_type": "code",
   "execution_count": 25,
   "metadata": {
    "colab": {
     "base_uri": "https://localhost:8080/"
    },
    "id": "1-PVo1MZuHzP",
    "outputId": "869b2cbb-9434-40fc-ca23-3fed0c51c83a"
   },
   "outputs": [],
   "source": [
    "factsRatingList = [tuple(l) for l in factsRatingDF.values.tolist()] # format data into a list of tuples before inserting to database\n",
    "#print(factsRatingList) # data for facts_IMDB_rating table"
   ]
  },
  {
   "cell_type": "code",
   "execution_count": null,
   "metadata": {
    "colab": {
     "base_uri": "https://localhost:8080/",
     "height": 460
    },
    "id": "V1GzQeqquHzP",
    "outputId": "dc181324-6f5d-4037-d6b1-0243aa4f86b6"
   },
   "outputs": [],
   "source": [
    "# create show_dim table and insert data into it\n",
    "db = pymysql.connect(host=\"localhost\",user=\"root\",password=\"hassan@2728f\",database=\"netflix_etl\") # mysql connection credentials, pass arguments as keywords\n",
    "cursor = db.curs``or()\n",
    "\n",
    "# cursor.execute(\"DROP TABLE IF EXISTS show_dim;\") # delete the table if it already exists\n",
    "\n",
    "# create table with attributes based on the dimensional model\n",
    "createTable1 = \"\"\"CREATE TABLE show_dim(\n",
    "                 show_id INT not null,\n",
    "                 type VARCHAR(255) null,\n",
    "                 title VARCHAR(255) not null,\n",
    "                 director VARCHAR(255) null,\n",
    "                 cast MEDIUMTEXT null,\n",
    "                 country VARCHAR(255) null,\n",
    "                 duration VARCHAR(255) null,\n",
    "                 description MEDIUMTEXT null,\n",
    "                 PRIMARY KEY (show_id, title));\"\"\"\n",
    "\n",
    "cursor.execute(createTable1)\n",
    "\n",
    "insertData1 = \"INSERT INTO show_dim VALUES (%s,%s,%s,%s,%s,%s,%s,%s);\" # insert data into table\n",
    "cursor.executemany(insertData1, showDimList)\n",
    "db.commit()\n",
    "\n",
    "db.close() # close the connection to mysql"
   ]
  },
  {
   "cell_type": "code",
   "execution_count": 30,
   "metadata": {
    "id": "KGV3aWItuHzP"
   },
   "outputs": [],
   "source": [
    "# create original_dim table and insert data into it\n",
    "db = pymysql.connect(host=\"localhost\",user=\"root\",password=\"hassan@2728f\",database=\"netflix_etl\") # mysql connection credentials, pass arguments as keywords\n",
    "cursor = db.cursor()\n",
    "\n",
    "cursor.execute(\"DROP TABLE IF EXISTS original_dim;\") # delete the table if it already exists\n",
    "\n",
    "# create table with attributes based on the dimensional model\n",
    "createTable2 = \"\"\"CREATE TABLE original_dim(\n",
    "                  original_title VARCHAR(255) not null,\n",
    "                  seasons VARCHAR(255) null,\n",
    "                  length VARCHAR (255) null,\n",
    "                  regions VARCHAR (255) null,\n",
    "                  status VARCHAR (255) null,\n",
    "                  PRIMARY KEY (original_title));\"\"\"\n",
    "\n",
    "cursor.execute(createTable2)\n",
    "\n",
    "insertData2 = \"INSERT INTO original_dim VALUES (%s,%s,%s,%s,%s);\" # insert data into table\n",
    "cursor.executemany(insertData2, netflix_origionalsList)\n",
    "db.commit()\n",
    "\n",
    "db.close() # close the connection to mysql"
   ]
  },
  {
   "cell_type": "code",
   "execution_count": 31,
   "metadata": {
    "id": "6qTXK3zSuHzQ"
   },
   "outputs": [],
   "source": [
    "# create date_dim table and insert data into it\n",
    "db = pymysql.connect(host=\"localhost\",user=\"root\",password=\"hassan@2728f\",database=\"netflix_etl\") # mysql connection credentials, pass arguments as keywords\n",
    "cursor = db.cursor()\n",
    "\n",
    "cursor.execute(\"DROP TABLE IF EXISTS date_dim;\") # delete the table if it already exists\n",
    "\n",
    "# create table with attributes based on the dimensional model\n",
    "createTable3 = \"\"\"CREATE TABLE date_dim(\n",
    "                  date_id VARCHAR(50) not null,\n",
    "                  date DATE null,\n",
    "                  year INT null,\n",
    "                  PRIMARY KEY (date_id));\"\"\"\n",
    "\n",
    "cursor.execute(createTable3)\n",
    "\n",
    "insertData3 = \"INSERT INTO date_dim VALUES (%s,%s,%s);\" # insert data into table\n",
    "cursor.executemany(insertData3, dateDimList)\n",
    "db.commit()\n",
    "\n",
    "db.close() # close the connection to mysql"
   ]
  },
  {
   "cell_type": "code",
   "execution_count": 33,
   "metadata": {
    "id": "q-PD_g-xuHzQ"
   },
   "outputs": [],
   "source": [
    "# create genre_dim table and insert data into it\n",
    "db = pymysql.connect(host=\"localhost\",user=\"root\",password=\"hassan@2728f\",database=\"netflix_etl\") # mysql connection credentials, pass arguments as keywords\n",
    "cursor = db.cursor()\n",
    "\n",
    "cursor.execute(\"DROP TABLE IF EXISTS genre_dim;\") # delete the table if it already exists\n",
    "\n",
    "# create table with attributes based on the dimensional model\n",
    "createTable4 = \"\"\"CREATE TABLE genre_dim(\n",
    "                  listed_in VARCHAR(255) not null,\n",
    "                  PRIMARY KEY (listed_in));\"\"\"\n",
    "\n",
    "cursor.execute(createTable4)\n",
    "\n",
    "insertData4 = \"INSERT INTO genre_dim VALUES (%s);\" # insert data into table\n",
    "val = [[item] for item in genreList]\n",
    "cursor.executemany(insertData4, val)\n",
    "db.commit()\n",
    "\n",
    "db.close() # close the connection to mysql"
   ]
  },
  {
   "cell_type": "code",
   "execution_count": 34,
   "metadata": {
    "id": "1pA0SDBLuHzQ"
   },
   "outputs": [],
   "source": [
    "# create facts_imdb_rating table and insert data into it\n",
    "db = pymysql.connect(host=\"localhost\",user=\"root\",password=\"hassan@2728f\",database=\"netflix_etl\") # mysql connection credentials, pass arguments as keywords\n",
    "cursor = db.cursor()\n",
    "\n",
    "cursor.execute(\"DROP TABLE IF EXISTS facts_imdb_rating;\") # delete the table if it already exists\n",
    "\n",
    "# create table with attributes based on the dimensional model\n",
    "createTable5 = \"\"\"CREATE TABLE facts_imdb_rating(\n",
    "                  show_id INT not null,\n",
    "                  title VARCHAR(255) not null,\n",
    "                  original_title VARCHAR(255) null,\n",
    "                  date_id VARCHAR(50) null,\n",
    "                  listed_in VARCHAR(255) null,\n",
    "                  rating FLOAT null,\n",
    "                  PRIMARY KEY (show_id),\n",
    "                  FOREIGN KEY (show_id, title) REFERENCES show_dim(show_id, title),\n",
    "                  FOREIGN KEY (original_title) REFERENCES original_dim(original_title),\n",
    "                  FOREIGN KEY (date_id) REFERENCES date_dim(date_id),\n",
    "                  FOREIGN KEY (listed_in) REFERENCES genre_dim(listed_in)\n",
    "                  );\"\"\"\n",
    "\n",
    "cursor.execute(createTable5)\n",
    "\n",
    "insertData5 = \"INSERT INTO facts_imdb_rating VALUES (%s,%s,%s,%s,%s,%s);\" # insert data into table\n",
    "cursor.executemany(insertData5, factsRatingList)\n",
    "db.commit()\n",
    "\n",
    "db.close() # close the connection to mysql"
   ]
  },
  {
   "cell_type": "code",
   "execution_count": 35,
   "metadata": {
    "id": "S--iXe8OuHzQ"
   },
   "outputs": [],
   "source": [
    "# create facts_stock_prices table and insert data into it\n",
    "db = pymysql.connect(host=\"localhost\",user=\"root\",password=\"hassan@2728f\",database=\"netflix_etl\") # mysql connection credentials, pass arguments as keywords\n",
    "cursor = db.cursor()\n",
    "\n",
    "cursor.execute(\"DROP TABLE IF EXISTS facts_stock_prices;\") # delete the table if it already exists\n",
    "\n",
    "# create table with attributes based on the dimensional model\n",
    "createTable6 = \"\"\"CREATE TABLE facts_stock_prices(\n",
    "                  date_id VARCHAR(50) not null,\n",
    "                  open FLOAT null,\n",
    "                  high FLOAT null,\n",
    "                  low FLOAT null,\n",
    "                  close FLOAT null,\n",
    "                  adj_close FLOAT null,\n",
    "                  volume FLOAT null,\n",
    "                  PRIMARY KEY (date_id),\n",
    "                  FOREIGN KEY (date_id) REFERENCES date_dim(date_id)\n",
    "                  );\"\"\"\n",
    "\n",
    "cursor.execute(createTable6)\n",
    "\n",
    "insertData6 = \"INSERT INTO facts_stock_prices VALUES (%s,%s,%s,%s,%s,%s,%s);\" # insert data into table\n",
    "cursor.executemany(insertData6, factsStockList)\n",
    "db.commit()\n",
    "\n",
    "db.close() # close the connection to mysql"
   ]
  },
  {
   "cell_type": "code",
   "execution_count": 36,
   "metadata": {
    "id": "vROsD7bjuHzR"
   },
   "outputs": [
    {
     "name": "stdout",
     "output_type": "stream",
     "text": [
      "Connected to MySQL Server version: 8.0.41\n"
     ]
    }
   ],
   "source": [
    "import pymysql\n",
    "\n",
    "# Establish connection\n",
    "db = pymysql.connect(\n",
    "    host=\"localhost\",       \n",
    "    user=\"root\",                  \n",
    "    password=\"hassan@2728f\",    \n",
    "    database=\"netflix_etl\",\n",
    "    port=3306                   \n",
    ")\n",
    "\n",
    "# Create a cursor to execute queries\n",
    "cursor = db.cursor()\n",
    "\n",
    "# Test the connection\n",
    "cursor.execute(\"SELECT VERSION();\")\n",
    "version = cursor.fetchone()\n",
    "print(\"Connected to MySQL Server version:\", version[0])\n",
    "\n",
    "# Always close when done\n",
    "db.close()\n"
   ]
  },
  {
   "cell_type": "code",
   "execution_count": 39,
   "metadata": {},
   "outputs": [
    {
     "name": "stdout",
     "output_type": "stream",
     "text": [
      "Collecting tabulate\n",
      "  Downloading tabulate-0.9.0-py3-none-any.whl.metadata (34 kB)\n",
      "Downloading tabulate-0.9.0-py3-none-any.whl (35 kB)\n",
      "Installing collected packages: tabulate\n",
      "Successfully installed tabulate-0.9.0\n",
      "Note: you may need to restart the kernel to use updated packages.\n"
     ]
    }
   ],
   "source": [
    "pip install tabulate\n"
   ]
  },
  {
   "cell_type": "code",
   "execution_count": 40,
   "metadata": {},
   "outputs": [
    {
     "name": "stdout",
     "output_type": "stream",
     "text": [
      "+-----------+--------+---------------------------------+-------------------+-------------------------------------------------------------------------------------------------------------------------------------------------------------------------+---------------+------------+---------------------------------------------------------------------------------------------------------------------------------------------------------------------------------------------------------------------+\n",
      "|   show_id | type   | title                           | director          | cast                                                                                                                                                                    | country       | duration   | description                                                                                                                                                                                                         |\n",
      "+===========+========+=================================+===================+=========================================================================================================================================================================+===============+============+=====================================================================================================================================================================================================================+\n",
      "|    247747 | Movie  | Amar Akbar Anthony              | Manmohan Desai    | Vinod Khanna, Rishi Kapoor, Amitabh Bachchan, Neetu Singh, Parveen Babi, Shabana Azmi, Nirupa Roy, Pran                                                                 | India         | 172 min    | Abandoned in a park by their father, Amar, Akbar and Anthony grow up independently and have no knowledge of one another. They're reunited as adults when, by coincidence, they all give blood at the same hospital. |\n",
      "+-----------+--------+---------------------------------+-------------------+-------------------------------------------------------------------------------------------------------------------------------------------------------------------------+---------------+------------+---------------------------------------------------------------------------------------------------------------------------------------------------------------------------------------------------------------------+\n",
      "|    269880 | Movie  | Bad Boys                        | Michael Bay       | Will Smith, Martin Lawrence, Téa Leoni, Tchéky Karyo, Theresa Randle, Joe Pantoliano, Emmanuel Xuereb, Michael Imperioli, Nestor Serrano, Julio Oscar Mechoso           | United States | 119 min    | In this fast-paced actioner, two Miami narcotics cops are hot on the trail of a master crook who has snatched $100 million worth of heroin.                                                                         |\n",
      "+-----------+--------+---------------------------------+-------------------+-------------------------------------------------------------------------------------------------------------------------------------------------------------------------+---------------+------------+---------------------------------------------------------------------------------------------------------------------------------------------------------------------------------------------------------------------+\n",
      "|    281550 | Movie  | La Bamba                        | Luis Valdez       | Lou Diamond Phillips, Esai Morales, Rosanna DeSoto, Elizabeth Peña, Danielle von Zerneck, Joe Pantoliano, Rick Dees, Marshall Crenshaw, Howard Huntsberry, Brian Setzer | United States | 109 min    | The plane crash that killed Buddy Holly also took Ritchie Valens, whose modest upbringing and rise to fame are depicted in this exhilarating biopic.                                                                |\n",
      "+-----------+--------+---------------------------------+-------------------+-------------------------------------------------------------------------------------------------------------------------------------------------------------------------+---------------+------------+---------------------------------------------------------------------------------------------------------------------------------------------------------------------------------------------------------------------+\n",
      "|    284890 | Movie  | Barsaat                         | Rajkumar Santoshi | Twinkle Khanna, Bobby Deol, Danny Denzongpa, Raj Babbar, Ashwin Kaushal, Mukesh Khanna, Harish Patel                                                                    | India         | 166 min    | A naïve young man and a rich city girl fall in love. Her stepfather, however, doesn't approve of the match and will stop at nothing to split the pair.                                                              |\n",
      "+-----------+--------+---------------------------------+-------------------+-------------------------------------------------------------------------------------------------------------------------------------------------------------------------+---------------+------------+---------------------------------------------------------------------------------------------------------------------------------------------------------------------------------------------------------------------+\n",
      "|    292118 | Movie  | Beavis and Butt-head Do America | Mike Judge        | Mike Judge, Bruce Willis, Demi Moore, Cloris Leachman, Robert Stack, Jacqueline Barba, Pamela Blair, Eric Bogosian, Kristofor Brown, Tony Darling, David Letterman      | United States | 81 min     | After realizing that their boob tube is gone, Beavis and Butt-head set off on an expedition that takes them from Las Vegas to the nation's capital.                                                                 |\n",
      "+-----------+--------+---------------------------------+-------------------+-------------------------------------------------------------------------------------------------------------------------------------------------------------------------+---------------+------------+---------------------------------------------------------------------------------------------------------------------------------------------------------------------------------------------------------------------+\n"
     ]
    }
   ],
   "source": [
    "import pymysql\n",
    "from tabulate import tabulate\n",
    "\n",
    "db = pymysql.connect(host=\"localhost\", user=\"root\", password=\"hassan@2728f\", database=\"netflix_etl\")\n",
    "cursor = db.cursor()\n",
    "\n",
    "cursor.execute(\"SELECT * FROM show_dim LIMIT 5;\")\n",
    "rows = cursor.fetchall()\n",
    "\n",
    "# Get column names\n",
    "columns = [desc[0] for desc in cursor.description]\n",
    "\n",
    "# Print as table\n",
    "print(tabulate(rows, headers=columns, tablefmt=\"grid\"))\n",
    "\n",
    "db.close()\n"
   ]
  },
  {
   "cell_type": "code",
   "execution_count": null,
   "metadata": {},
   "outputs": [],
   "source": [
    "-"
   ]
  }
 ],
 "metadata": {
  "colab": {
   "provenance": []
  },
  "kernelspec": {
   "display_name": "Python 3 (ipykernel)",
   "language": "python",
   "name": "python3"
  },
  "language_info": {
   "codemirror_mode": {
    "name": "ipython",
    "version": 3
   },
   "file_extension": ".py",
   "mimetype": "text/x-python",
   "name": "python",
   "nbconvert_exporter": "python",
   "pygments_lexer": "ipython3",
   "version": "3.13.3"
  }
 },
 "nbformat": 4,
 "nbformat_minor": 4
}
